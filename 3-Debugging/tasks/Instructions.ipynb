{
 "cells": [
  {
   "cell_type": "markdown",
   "metadata": {},
   "source": [
    "# Session 3: Debugging"
   ]
  },
  {
   "cell_type": "markdown",
   "metadata": {},
   "source": [
    "Please open up a Terminal window via File → New → Terminal. In the Terminal, make your way to `~/OpenACC-Course/3-Debugging/Tasks`. There either choose `FORTRAN` or `C`\n",
    "and go to `spmv`.\n",
    "\n",
    "We are going to use a running example to emulate the process of how one might approach hunting bugs. Please do not modify the source before being asked to.\n",
    "We will also not explain what the code is doing before the end."
   ]
  },
  {
   "cell_type": "markdown",
   "metadata": {},
   "source": [
    "## Important: Read first"
   ]
  },
  {
   "cell_type": "markdown",
   "metadata": {},
   "source": [
    "For all tasks and all languages, running `make` will build three targets with suffixes\n",
    "- `.bin` optimised\n",
    "- `.lin` w/ lineinfo\n",
    "- `.dbg` w/ heavyweight debug\n",
    "\n",
    "Please do this now.\n",
    "\n",
    "Then, obtain an interactive session using \n",
    "```srun --partition=gpus --gres=gpu:1 --pty bash -i```\n",
    "\n",
    "Please do not change the source until Task 5."
   ]
  },
  {
   "cell_type": "markdown",
   "metadata": {},
   "source": [
    "## Task 0: Tracing"
   ]
  },
  {
   "cell_type": "markdown",
   "metadata": {},
   "source": [
    "Build the example and use the tracing facilities to get a feel for the execution.\n",
    "- run with tracing: `NV_ACC_NOTIFY=<LEVEL> ./spmv.bin`\n",
    "- choose different levels"
   ]
  },
  {
   "cell_type": "markdown",
   "metadata": {},
   "source": [
    "## Task 1: Memcheck"
   ]
  },
  {
   "cell_type": "markdown",
   "metadata": {},
   "source": [
    "Use the `compute-sanitizer` tool to pin-point memory access error.\n",
    "\n",
    "```compute-sanitizer ./spmv.bin```\n",
    "\n",
    "What does the analysis reveal?"
   ]
  },
  {
   "cell_type": "markdown",
   "metadata": {},
   "source": [
    "## Task 2: GDB backtrace"
   ]
  },
  {
   "cell_type": "markdown",
   "metadata": {},
   "source": [
    "Use `cuda-gdb` to trace execution to the error's location.\n",
    "\n",
    "```cuda-gdb ./spmv.bin\n",
    "(gdb) # Not needed here set args arg0 arg1 ...\n",
    "(gdb) run\n",
    "... something terrible happens ...\n",
    "(gdb) backtrace```"
   ]
  },
  {
   "cell_type": "markdown",
   "metadata": {},
   "source": [
    "## Task 3: GDB breakpoints"
   ]
  },
  {
   "cell_type": "markdown",
   "metadata": {},
   "source": [
    "As above, but now\n",
    "- use `break` to halt execution at the broken kernel\n",
    "- then use `print` and `list` to take a look at the state and code\n",
    "- with `step`, `next`, and `continue` navigate through the execution"
   ]
  },
  {
   "cell_type": "markdown",
   "metadata": {},
   "source": [
    "## Task 4: GDB and CUDA focus"
   ]
  },
  {
   "cell_type": "markdown",
   "metadata": {},
   "source": [
    "As above, but now\n",
    "- set the focus to the breaking set of threads\n",
    "- inspect the state in these threads"
   ]
  },
  {
   "cell_type": "markdown",
   "metadata": {},
   "source": [
    "## Task 5: Fix it"
   ]
  },
  {
   "cell_type": "markdown",
   "metadata": {},
   "source": [
    "Use what you have learned so far to smash that bug. Take a look at the sources and make it correct. There is also an explanation of the program in the slides."
   ]
  },
  {
   "cell_type": "markdown",
   "metadata": {},
   "source": [
    "## Bonus: VAdd"
   ]
  },
  {
   "cell_type": "markdown",
   "metadata": {},
   "source": [
    "Debug the other example, `vadd`."
   ]
  },
  {
   "cell_type": "code",
   "execution_count": null,
   "metadata": {},
   "outputs": [],
   "source": []
  }
 ],
 "metadata": {
  "kernelspec": {
   "display_name": "Python 3",
   "language": "python",
   "name": "python3"
  },
  "language_info": {
   "codemirror_mode": {
    "name": "ipython",
    "version": 3
   },
   "file_extension": ".py",
   "mimetype": "text/x-python",
   "name": "python",
   "nbconvert_exporter": "python",
   "pygments_lexer": "ipython3",
   "version": "3.8.6"
  }
 },
 "nbformat": 4,
 "nbformat_minor": 4
}
