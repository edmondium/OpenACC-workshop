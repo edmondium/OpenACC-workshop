{
 "cells": [
  {
   "cell_type": "markdown",
   "metadata": {},
   "source": [
    "# PRACE OpenACC Course 2024\n",
    "\n",
    "* Date: 29 - 31 October 2024\n",
    "* Location: _online_\n",
    "* Institue: Jülich Supercomputing Centre"
   ]
  },
  {
   "cell_type": "markdown",
   "metadata": {},
   "source": [
    "## Session 5: Interoperability task 2\n",
    "\n",
    "In this task, data is copied to the GPU device by means of OpenACC. Computation on the GPU is done\n",
    "via CUDA. Both OpenACC and CUDA codes should go into the main source code file, `vecAddRed.c`.\n",
    "\n",
    "### Program Idea\n",
    "- `vecAddRed.c` : The main part of the program sets up the data and initializes it. `cudaVecAdd()` : Calculates `c = a + b` in parallel.\n",
    "\n",
    "\n",
    "### Tasks\n",
    "\n",
    "- Please open up a Terminal window via `File` → `New` → `Terminal`.\n",
    "\n",
    "- In the Terminal, navigate to `5-Interoperability/Tasks/C/Tasks/Task2`.\n",
    "\n",
    "- See TODOs. \n",
    "\n",
    "- `vecAddRed.c` : `cudaVecAdd()` accepts pointers to data which is already on the GPU.\n",
    "Tell OpenACC to use the device pointers for the arrays.\n",
    "\n",
    "    - Call the kernel (Use the `<<<nBlocks, nThreads>>>` syntax)\n",
    "    \n",
    "    - Implement vector addition\n",
    "\n",
    "- Compile with `make` , run with `make run`"
   ]
  },
  {
   "cell_type": "code",
   "execution_count": null,
   "metadata": {},
   "outputs": [],
   "source": []
  }
 ],
 "metadata": {
  "kernelspec": {
   "display_name": "Python 3.10.6 64-bit",
   "language": "python",
   "name": "python3"
  },
  "language_info": {
   "codemirror_mode": {
    "name": "ipython",
    "version": 3
   },
   "file_extension": ".py",
   "mimetype": "text/x-python",
   "name": "python",
   "nbconvert_exporter": "python",
   "pygments_lexer": "ipython3",
   "version": "3.10.6"
  },
  "vscode": {
   "interpreter": {
    "hash": "916dbcbb3f70747c44a77c7bcd40155683ae19c65e1c03b4aa3499c5328201f1"
   }
  }
 },
 "nbformat": 4,
 "nbformat_minor": 4
}
