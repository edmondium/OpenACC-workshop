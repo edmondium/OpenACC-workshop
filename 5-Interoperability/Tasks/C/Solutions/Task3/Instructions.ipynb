{
 "cells": [
  {
   "cell_type": "markdown",
   "metadata": {},
   "source": [
    "# PRACE OpenACC Course 2024\n",
    "\n",
    "* Date: 29 - 31 October 2024\n",
    "* Location: _online_\n",
    "* Institue: Jülich Supercomputing Centre"
   ]
  },
  {
   "cell_type": "markdown",
   "metadata": {},
   "source": [
    "## Session 5: Interoperability task 3\n",
    "\n",
    "This task uses the Thrust library to sum the elements of a vector which has been computed before by\n",
    "means of OpenACC\n",
    "\n",
    "### Tasks\n",
    "\n",
    "- Please open up a Terminal window via `File` → `New` → `Terminal`.\n",
    "\n",
    "- In the Terminal, navigate to `5-Interoperability/Tasks/C/Tasks/Task3`.\n",
    "\n",
    "- Check for the TODOs throughout the code in `vecAddRed.c`.\n",
    "\n",
    "- The GPU-enabled call to `thrust::reduce()` should be implemented.\n",
    "\n",
    "    \n",
    "- Compile with `make` , run with `make run`"
   ]
  },
  {
   "cell_type": "markdown",
   "metadata": {},
   "source": []
  }
 ],
 "metadata": {
  "kernelspec": {
   "display_name": "Python 3",
   "language": "python",
   "name": "python3"
  },
  "language_info": {
   "codemirror_mode": {
    "name": "ipython",
    "version": 3
   },
   "file_extension": ".py",
   "mimetype": "text/x-python",
   "name": "python",
   "nbconvert_exporter": "python",
   "pygments_lexer": "ipython3",
   "version": "3.8.5"
  }
 },
 "nbformat": 4,
 "nbformat_minor": 4
}
