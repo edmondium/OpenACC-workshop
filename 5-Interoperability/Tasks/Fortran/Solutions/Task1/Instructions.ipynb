{
 "cells": [
  {
   "cell_type": "markdown",
   "metadata": {},
   "source": [
    "# JSC OpenACC Course 2024\n",
    "\n",
    "* Date: 29 - 31 October 2024\n",
    "* Location: _online_\n",
    "* Institue: Jülich Supercomputing Centre"
   ]
  },
  {
   "cell_type": "markdown",
   "metadata": {},
   "source": []
  },
  {
   "cell_type": "markdown",
   "metadata": {},
   "source": [
    "## Session 5: Interoperability task 1\n",
    "\n",
    "### Call a API routine from cuBLAS to accelerate a DAXPY operation\n",
    "\n",
    "- Please open up a Terminal window via `File` → `New` → `Terminal`.\n",
    "\n",
    "- In the Terminal, navigate to `5-Interoperability/Tasks/Fortran/Tasks/Task1`.\n",
    "\n",
    "- See TODO s and also the NOTES at the end of the file\n",
    "\n",
    "- Implement the call to the `cublasDaxpy()` API call\n",
    "\n",
    "- Provide a device-side pointer to the function by means of the `host_data` `use_device` directive"
   ]
  },
  {
   "cell_type": "markdown",
   "metadata": {},
   "source": []
  }
 ],
 "metadata": {
  "kernelspec": {
   "display_name": "Python 3",
   "language": "python",
   "name": "python3"
  },
  "language_info": {
   "codemirror_mode": {
    "name": "ipython",
    "version": 3
   },
   "file_extension": ".py",
   "mimetype": "text/x-python",
   "name": "python",
   "nbconvert_exporter": "python",
   "pygments_lexer": "ipython3",
   "version": "3.8.5"
  }
 },
 "nbformat": 4,
 "nbformat_minor": 4
}
