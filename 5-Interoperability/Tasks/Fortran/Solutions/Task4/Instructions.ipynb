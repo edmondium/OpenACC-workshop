{
 "cells": [
  {
   "cell_type": "markdown",
   "metadata": {},
   "source": [
    "# PRACE OpenACC Course 2024\n",
    "\n",
    "* Date: 29 - 31 October 2024\n",
    "* Location: _online_\n",
    "* Institue: Jülich Supercomputing Centre"
   ]
  },
  {
   "cell_type": "markdown",
   "metadata": {},
   "source": [
    "## Session 5: Interoperability task 4\n",
    "\n",
    "This task solves the Poisson equation using Fast Fourier Transforms which run on the GPU, as provided\n",
    "by the GPU-accelerated cuFFT library.\n",
    "\n",
    "Special care must be taken to run on the same CUDA Streams using `acc_get_cuda_stream()` and\n",
    "`cufftSetStream()` .\n",
    "\n",
    "### Tasks\n",
    "\n",
    "- Please open up a Terminal window via `File` → `New` → `Terminal`.\n",
    "\n",
    "- In the Terminal, navigate to `5-Interoperability/Tasks/Fortran/Tasks/Task4`.\n",
    "\n",
    "- Check for the TODOs throughout the code in `poisson.F90`.\n",
    "\n",
    "- `solveKSpace()` : Parallelize the two loops which go through `Nx` and `Ny`\n",
    "\n",
    "- `normalise()` : Parallelize the normalization loop\n",
    "\n",
    "- `solveRSpace()` : Move data to the device, switch context to proper stream, pass correct addresses to `cufftExecZ2Zs`.\n",
    "    \n",
    "- Compile with `make` , run with `make run`"
   ]
  },
  {
   "cell_type": "markdown",
   "metadata": {},
   "source": []
  }
 ],
 "metadata": {
  "kernelspec": {
   "display_name": "Python 3",
   "language": "python",
   "name": "python3"
  },
  "language_info": {
   "codemirror_mode": {
    "name": "ipython",
    "version": 3
   },
   "file_extension": ".py",
   "mimetype": "text/x-python",
   "name": "python",
   "nbconvert_exporter": "python",
   "pygments_lexer": "ipython3",
   "version": "3.8.5"
  }
 },
 "nbformat": 4,
 "nbformat_minor": 4
}
