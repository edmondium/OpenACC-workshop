{
 "cells": [
  {
   "cell_type": "markdown",
   "metadata": {},
   "source": [
    "# JSC OpenACC Course 2024\n",
    "\n",
    "* Date: 29 - 31 October 2024\n",
    "* Location: _online_\n",
    "* Institue: Jülich Supercomputing Centre"
   ]
  },
  {
   "cell_type": "markdown",
   "metadata": {},
   "source": [
    "## Session 1: GPU Introduction\n",
    "\n",
    "### Task 1: Getting Started\n",
    "\n",
    "Please open up a Terminal window via `File` → `New` → `Terminal`.\n",
    "\n",
    "In the Terminal, make your way to `~/GPU-Course/1-Introduction-GPU-Programming/Tasks/Getting-Started`, which should already be in your account after bootstrapping the environment.\n",
    "\n",
    "Call `source setup.sh` to load the modules of this task into your environment. (They are a bit different than the modules for the other tasks!)\n",
    "\n",
    "Run `make` to build the individual benchmark programs.\n",
    "\n",
    "Call `./bench_all.sh` to submit the benchmarks to the batch system and let them run on the compute nodes.\n",
    "\n",
    "Afterwards, execute the following cells (for example with <kbd>shift</kbd>+<kbd>enter</kbd>) to visualize the result and display the generated images. You might need to modify the content of the cell in order for Jupyter to try to re-render the images – just add a space at the bottom."
   ]
  },
  {
   "cell_type": "markdown",
   "metadata": {},
   "source": [
    "![DGEMM Benchmark](dgemm_bench.png)\n",
    "![NBody Benchmark](nbody_bench.png)\n",
    "![Mandelbrot Benchmark](mandelbrot_bench.png)\n",
    "![DDot Benchmark](ddot_bench.png)\n"
   ]
  },
  {
   "cell_type": "code",
   "execution_count": null,
   "metadata": {},
   "outputs": [],
   "source": []
  }
 ],
 "metadata": {
  "kernelspec": {
   "display_name": "Python 3",
   "language": "python",
   "name": "python3"
  },
  "language_info": {
   "codemirror_mode": {
    "name": "ipython",
    "version": 3
   },
   "file_extension": ".py",
   "mimetype": "text/x-python",
   "name": "python",
   "nbconvert_exporter": "python",
   "pygments_lexer": "ipython3",
   "version": "3.8.5"
  }
 },
 "nbformat": 4,
 "nbformat_minor": 4
}
