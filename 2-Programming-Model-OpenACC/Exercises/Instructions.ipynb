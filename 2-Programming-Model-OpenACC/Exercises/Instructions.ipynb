{
 "cells": [
  {
   "cell_type": "markdown",
   "metadata": {},
   "source": [
    "# JSC OpenACC Course 2024\n",
    "\n",
    "* Date: 29 - 31 October 2024\n",
    "* Location: _online_\n",
    "* Institue: Jülich Supercomputing Centre"
   ]
  },
  {
   "cell_type": "markdown",
   "metadata": {},
   "source": [
    "## Session 2: OpenACC Introduction\n",
    "\n",
    "Please open up a Terminal window via `File` → `New` → `Terminal`.\n",
    "\n",
    "In the Terminal, make your way to `~/GPU-Course/2-Programming-Model-OpenACC/Exercises`, which should already be in your account after bootstrapping the environment. \n",
    "\n",
    "If you still have the modules from _Session 1_ loaded (by calling Session 1's `setup.sh`), please make sure to return to the course's default by calling this sessions' `setup.sh` with `source setup.sh`.\n",
    "\n",
    "Choose either C or Fortran as the programming language; the course is best experienced in C, but Fortran will technically work as well.\n",
    "\n",
    "You find the tasks to work on in the `Task/` directory. There is also a directory called `Solutions/` which contains solutions to each of the tasks you work on. You decide for yourself if and when you look into the solutions. Don't give up too quickly!\n",
    "\n",
    "This document contains descriptions for each of the six tasks. Please only work on the individual task as specified in the lecture."
   ]
  },
  {
   "cell_type": "markdown",
   "metadata": {},
   "source": [
    "### Task 1: A Simple Profile\n",
    "\n",
    "We use `gcc` and `gprof` to generate a simple profile of the application. Instead of calling invididual commands, we prepared everything neatly for you with targets in the `Makefile` – not only for this task, but for all following.\n",
    "\n",
    "Go to the `Task1` subdirectory and compile the application with\n",
    "\n",
    "```bash\n",
    "make task1\n",
    "```\n",
    "\n",
    "(Usually you only compile with `make`, but this task is special: We use GCC instead of NVHPC.)\n",
    "\n",
    "After compilation, you can submit a run to the batch system with\n",
    "\n",
    "```bash\n",
    "make task1_profile\n",
    "```\n",
    "\n",
    "(Also this deviates a bit from the following commands; usually you submit with `make run`, but… this task is special!)\n",
    "\n",
    "Study the output!"
   ]
  },
  {
   "cell_type": "markdown",
   "metadata": {},
   "source": [
    "### Task 2: Add Parallel Region\n",
    "\n",
    "Your first proper programming example!\n",
    "\n",
    "Make your way to the `Task2` directory in the Jupyter Terminal. In there you find `poisson2d.c` which is the file we are going to change in this session. Either open it directly in the Terminal with `vim`, or – which we recommend – make your way to the same file also in Jupyter's file browser drawer and open it in Jupyter's file editor by double-clicking it.\n",
    "\n",
    "Have a look at the `TODO`! Please add OpenACC parallelism for the double-`for` loop!\n",
    "\n",
    "Again, compile and run with the following two commands:\n",
    "\n",
    "```bash\n",
    "make\n",
    "make run\n",
    "```"
   ]
  },
  {
   "cell_type": "markdown",
   "metadata": {},
   "source": [
    "### Task 3: More Parallel Regions\n",
    "\n",
    "Move to the `Task3` directory and again look at `poisson2d.c`.\n",
    "\n",
    "You'll find new `TODO`s indiciating the region in which you add individual `parallel loop` or a `kernels` routine(s). Only parallelize the indiviual `for` loops inside the `while` as indicated in the source code comments.\n",
    "\n",
    "As before, \n",
    "\n",
    "```bash\n",
    "make\n",
    "make run\n",
    "```"
   ]
  },
  {
   "cell_type": "markdown",
   "metadata": {},
   "source": [
    "### Task 4: Data Copies\n",
    "\n",
    "To be more portable and better understand data movement behaviours, we removed managed memory transfers by not specifying `-gpu=manged` during compilation.\n",
    "\n",
    "We now need to add `copy` clauses to the parallel OpenACC reegions. Have a look at `poission2d.c` in the `Task4` directory, you'll find new `TODO`s.\n",
    "\n",
    "To compile and run, use\n",
    "\n",
    "```bash\n",
    "make\n",
    "make run\n",
    "```"
   ]
  },
  {
   "cell_type": "markdown",
   "metadata": {},
   "source": [
    "### Task 5: Data Regions\n",
    "\n",
    "Instead of using individual data copies (as we did in Task 4 with the `copy` clauses), we rather want to keep the data on the GPU for the whole runtime of the program.\n",
    "\n",
    "Please implement the according directive as outlined in the `TODO` of `Task5`'s `poisson2d.c`.\n",
    "\n",
    "Compile and run with\n",
    "\n",
    "```bash\n",
    "make\n",
    "make run\n",
    "```"
   ]
  },
  {
   "cell_type": "markdown",
   "metadata": {},
   "source": [
    "### Task 6: Refactoring\n",
    "\n",
    "The final task of this session.\n",
    "\n",
    "To show OpenACC's capabilities to work in larger programs, we want to extract the core double-loop into a dedicated function called `inner_loop()`. Please add a level of parallelism to this inner loop (which makes it necessary to declare it a `acc routine`).\n",
    "\n",
    "As usual, there are `TODO` hints inside `poisson2d.c` of this `Task6`.\n",
    "\n",
    "Compile and run with\n",
    "\n",
    "```bash\n",
    "make\n",
    "make run\n",
    "```\n",
    "\n",
    "You are done with this task!\n",
    "\n",
    "**Congratulations for accelerating your first OpenACC program!**"
   ]
  }
 ],
 "metadata": {
  "kernelspec": {
   "display_name": "Python 3",
   "language": "python",
   "name": "python3"
  },
  "language_info": {
   "codemirror_mode": {
    "name": "ipython",
    "version": 3
   },
   "file_extension": ".py",
   "mimetype": "text/x-python",
   "name": "python",
   "nbconvert_exporter": "python",
   "pygments_lexer": "ipython3",
   "version": "3.9.0"
  }
 },
 "nbformat": 4,
 "nbformat_minor": 4
}
